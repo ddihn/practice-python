{
  "nbformat": 4,
  "nbformat_minor": 0,
  "metadata": {
    "colab": {
      "provenance": [],
      "authorship_tag": "ABX9TyOOQ/OgicQRcGZxiG0XI34f"
    },
    "kernelspec": {
      "name": "python3",
      "display_name": "Python 3"
    },
    "language_info": {
      "name": "python"
    }
  },
  "cells": [
    {
      "cell_type": "markdown",
      "source": [
        "##함수 및 제어문"
      ],
      "metadata": {
        "id": "QiHLxwE4spAO"
      }
    },
    {
      "cell_type": "markdown",
      "source": [
        "###최소 최대값을 뺀 평균을 구해보자!"
      ],
      "metadata": {
        "id": "hI64bDoAxl2N"
      }
    },
    {
      "cell_type": "code",
      "source": [
        "# 함수 생성 방법\n",
        "# 필요성 : 프로세스를 재사용하기 위함\n",
        "# 만드는 방법\n",
        "# 1. 테스트 데이터로 로직 생성\n",
        "# 2. 헤더 생성\n",
        "# 3. 출력값 리턴\n",
        "# 4. 테스트데이터 디버깅 코드로 주석 -> 보통은 영어로 함\n",
        "# 5. 함수 설명 생성 ( docstring )"
      ],
      "metadata": {
        "id": "-8FY2aSZIEpm"
      },
      "execution_count": null,
      "outputs": []
    },
    {
      "cell_type": "code",
      "source": [
        "# STEP1 : 리스트를 선언한다 ( SCANF INPUT )\n",
        "# STEP2 : 최솟값 / 최댓값을 구한다\n",
        "# STEP3 : 최솟값, 최댓값 개수를 산출한다\n",
        "# STEP4 : 분자 : 전체합 - (최솟값 * 최솟값 개수 + 최댓값 * 최대값 * 개수)\n",
        "#         분모 : 전체 개수 - (최솟값 개수 + 최댓값 개수)\n",
        "# STEP5 : 평균계산 = 분모 / 분자"
      ],
      "metadata": {
        "id": "L2y3QS_dxpsu"
      },
      "execution_count": null,
      "outputs": []
    },
    {
      "cell_type": "code",
      "source": [
        "def listMean( inList ) :\n",
        "\n",
        "  minValue = min(inList)\n",
        "  maxValue = max(inList)\n",
        "\n",
        "  minValueCnt = inList.count(minValue)\n",
        "  maxValueCnt = inList.count(maxValue)\n",
        "\n",
        "  numerator = sum(inList) - (minValue * minValueCnt + maxValue * maxValueCnt)\n",
        "  denominator = len(inList) - (minValueCnt + maxValueCnt)\n",
        "\n",
        "  avgList = 0.0\n",
        "  if(denominator != 0):\n",
        "    avgList = numerator / denominator\n",
        "  else :\n",
        "    avgList = 0.0\n",
        "  print(f\"입력된 리스트의 평균값은 {avgList}입니다.\");\n",
        "  return avgList\n",
        "\n",
        "inList = [10,20,30,40,50,60,10,20,30,70]\n",
        "listMean(inList)"
      ],
      "metadata": {
        "colab": {
          "base_uri": "https://localhost:8080/"
        },
        "id": "lPSl9NHIytjX",
        "outputId": "84d8eb74-9d6b-416d-fbe5-1071e8a236d0"
      },
      "execution_count": 16,
      "outputs": [
        {
          "output_type": "stream",
          "name": "stdout",
          "text": [
            "입력된 리스트의 평균값은 35.714285714285715입니다.\n",
            "입력된 리스트의 평균값은 45.714285714285715입니다.\n"
          ]
        },
        {
          "output_type": "execute_result",
          "data": {
            "text/plain": [
              "45.714285714285715"
            ]
          },
          "metadata": {},
          "execution_count": 16
        }
      ]
    },
    {
      "cell_type": "code",
      "source": [
        "qtyList = [10,10,10,20,20,20,30,1,2,3,4,5,6,7,8,9]\n",
        "energyList = [1000,2000,3000,4000,5000]\n",
        "scoreList = [5,3,3,2,4]\n",
        "\n",
        "listMean(qtyList)\n",
        "listMean(energyList)\n",
        "listMean(scoreList)"
      ],
      "metadata": {
        "colab": {
          "base_uri": "https://localhost:8080/"
        },
        "id": "j6gSQun_2iHs",
        "outputId": "acd9c6ea-62b3-40fe-fafc-26d78fa68f85"
      },
      "execution_count": 20,
      "outputs": [
        {
          "output_type": "stream",
          "name": "stdout",
          "text": [
            "입력된 리스트의 평균값은 9.571428571428571입니다.\n",
            "입력된 리스트의 평균값은 3000.0입니다.\n",
            "입력된 리스트의 평균값은 3.3333333333333335입니다.\n"
          ]
        },
        {
          "output_type": "execute_result",
          "data": {
            "text/plain": [
              "3.3333333333333335"
            ]
          },
          "metadata": {},
          "execution_count": 20
        }
      ]
    },
    {
      "cell_type": "markdown",
      "source": [],
      "metadata": {
        "id": "a3SZksrfH5RS"
      }
    },
    {
      "cell_type": "markdown",
      "source": [
        "###다른 파일에서 함수 불러오기"
      ],
      "metadata": {
        "id": "aMYacrqtH4q_"
      }
    },
    {
      "cell_type": "markdown",
      "source": [
        "보통 배포시에는 공통 함수는 따로 폴더로 정리해 배포한다."
      ],
      "metadata": {
        "id": "aZG4tsuOIxVU"
      }
    },
    {
      "cell_type": "code",
      "source": [
        "from commonFunction import cFunc as cf"
      ],
      "metadata": {
        "id": "n-DNqaax9Pa4"
      },
      "execution_count": 50,
      "outputs": []
    },
    {
      "cell_type": "code",
      "source": [
        "cf.listMean(qtyList)"
      ],
      "metadata": {
        "colab": {
          "base_uri": "https://localhost:8080/"
        },
        "id": "MD8SsHtOHZre",
        "outputId": "abed49ce-d103-48b5-8eb4-b41e4305690d"
      },
      "execution_count": 53,
      "outputs": [
        {
          "output_type": "stream",
          "name": "stdout",
          "text": [
            "입력된 리스트의 평균값은 9.571428571428571입니다.\n"
          ]
        },
        {
          "output_type": "execute_result",
          "data": {
            "text/plain": [
              "9.571428571428571"
            ]
          },
          "metadata": {},
          "execution_count": 53
        }
      ]
    },
    {
      "cell_type": "code",
      "source": [
        "import sys\n",
        "sys.path.insert(1,'../Common')"
      ],
      "metadata": {
        "id": "KJ74lQelHe8Z"
      },
      "execution_count": 52,
      "outputs": []
    },
    {
      "cell_type": "code",
      "source": [
        "def listMean( inList, inExtraValue =0.0 ):\n",
        "  \"\"\"\n",
        "  # docstring\n",
        "  정의 : 리스트 (집합) 값을 입력받아 최소, 최댓값을 제거한 후 평균을 계산하는 함수\n",
        "  입력 매개변수 : inList ( list ), inExtraValue는 선택 사항!\n",
        "  출력 결과 : avgList ( float )\n",
        "\n",
        "  \"\"\"\n",
        "  minValue = min(inList)\n",
        "  maxValue = max(inList)\n",
        "\n",
        "  minValueCnt = inList.count(minValue)\n",
        "  maxValueCnt = inList.count(maxValue)\n",
        "\n",
        "  numerator = sum(inList) - (minValue * minValueCnt + maxValue * maxValueCnt)\n",
        "  denominator = len(inList) - (minValueCnt + maxValueCnt)\n",
        "\n",
        "  avgList = 0.0\n",
        "  if(denominator != 0):\n",
        "    avgList = numerator / denominator\n",
        "  else :\n",
        "    avgList = 0.0\n",
        "  print(f\"입력된 리스트의 평균값은 {avgList}입니다.\");\n",
        "  avgList = avgList + inExtraValue\n",
        "  return avgList\n"
      ],
      "metadata": {
        "id": "LgN7RQsy8iJd"
      },
      "execution_count": null,
      "outputs": []
    },
    {
      "cell_type": "markdown",
      "source": [
        "###다른 파일에서 데이터 불러오기"
      ],
      "metadata": {
        "id": "rglrqi-TINxr"
      }
    },
    {
      "cell_type": "code",
      "source": [
        "from google.colab import drive\n",
        "drive.mount(\"/content/gdrive\")\n",
        "%cd /content/gdrive/MyDrive/Colab Notebooks/fintech_edu_2025/practice-python"
      ],
      "metadata": {
        "id": "edFWMPN6Bk6e"
      },
      "execution_count": 25,
      "outputs": []
    },
    {
      "cell_type": "code",
      "source": [
        "import pandas as pd"
      ],
      "metadata": {
        "id": "_qZGpPO7Dy_a"
      },
      "execution_count": 29,
      "outputs": []
    },
    {
      "cell_type": "code",
      "source": [
        "customerData = pd.read_csv(\"/content/gdrive/MyDrive/Colab Notebooks/fintech_edu_2025/codeset/dataset/customerdata.csv\")\n",
        "customerData"
      ],
      "metadata": {
        "colab": {
          "base_uri": "https://localhost:8080/",
          "height": 423
        },
        "id": "s5g6x4nnEiKp",
        "outputId": "e52d91bc-c5c1-44b2-d225-9d622359c9cf"
      },
      "execution_count": 41,
      "outputs": [
        {
          "output_type": "execute_result",
          "data": {
            "text/plain": [
              "     CUSTID     AVGPRICE  EMI  DEVICECOUNT  PRODUCTAGE          CUSTTYPE\n",
              "0    A13566  4273.900000    3            6    1.679181  Big-Screen-lover\n",
              "1    A14219  3642.441950    2            4    2.682023      Sleeping-dog\n",
              "2    A15312  3653.884565    2            5    3.208202      Sleeping-dog\n",
              "3    A16605  3713.211107    2            6    0.900000        Early-bird\n",
              "4    B10634  3391.074215    2            4    2.453656      Sleeping-dog\n",
              "..      ...          ...  ...          ...         ...               ...\n",
              "145  Z13253  3678.800000    2            5    2.463670  Big-Screen-lover\n",
              "146  Z13534  3662.437527    3            6    0.900000        Early-bird\n",
              "147  Z16428  3516.500000    2            5    2.371301  Big-Screen-lover\n",
              "148  Z16735  3300.100000    2            5    1.704942  Big-Screen-lover\n",
              "149  Z19835  3326.526183    2            6    1.200000        Early-bird\n",
              "\n",
              "[150 rows x 6 columns]"
            ],
            "text/html": [
              "\n",
              "  <div id=\"df-efac36f8-ec0c-4866-8fd3-9055c67630d1\" class=\"colab-df-container\">\n",
              "    <div>\n",
              "<style scoped>\n",
              "    .dataframe tbody tr th:only-of-type {\n",
              "        vertical-align: middle;\n",
              "    }\n",
              "\n",
              "    .dataframe tbody tr th {\n",
              "        vertical-align: top;\n",
              "    }\n",
              "\n",
              "    .dataframe thead th {\n",
              "        text-align: right;\n",
              "    }\n",
              "</style>\n",
              "<table border=\"1\" class=\"dataframe\">\n",
              "  <thead>\n",
              "    <tr style=\"text-align: right;\">\n",
              "      <th></th>\n",
              "      <th>CUSTID</th>\n",
              "      <th>AVGPRICE</th>\n",
              "      <th>EMI</th>\n",
              "      <th>DEVICECOUNT</th>\n",
              "      <th>PRODUCTAGE</th>\n",
              "      <th>CUSTTYPE</th>\n",
              "    </tr>\n",
              "  </thead>\n",
              "  <tbody>\n",
              "    <tr>\n",
              "      <th>0</th>\n",
              "      <td>A13566</td>\n",
              "      <td>4273.900000</td>\n",
              "      <td>3</td>\n",
              "      <td>6</td>\n",
              "      <td>1.679181</td>\n",
              "      <td>Big-Screen-lover</td>\n",
              "    </tr>\n",
              "    <tr>\n",
              "      <th>1</th>\n",
              "      <td>A14219</td>\n",
              "      <td>3642.441950</td>\n",
              "      <td>2</td>\n",
              "      <td>4</td>\n",
              "      <td>2.682023</td>\n",
              "      <td>Sleeping-dog</td>\n",
              "    </tr>\n",
              "    <tr>\n",
              "      <th>2</th>\n",
              "      <td>A15312</td>\n",
              "      <td>3653.884565</td>\n",
              "      <td>2</td>\n",
              "      <td>5</td>\n",
              "      <td>3.208202</td>\n",
              "      <td>Sleeping-dog</td>\n",
              "    </tr>\n",
              "    <tr>\n",
              "      <th>3</th>\n",
              "      <td>A16605</td>\n",
              "      <td>3713.211107</td>\n",
              "      <td>2</td>\n",
              "      <td>6</td>\n",
              "      <td>0.900000</td>\n",
              "      <td>Early-bird</td>\n",
              "    </tr>\n",
              "    <tr>\n",
              "      <th>4</th>\n",
              "      <td>B10634</td>\n",
              "      <td>3391.074215</td>\n",
              "      <td>2</td>\n",
              "      <td>4</td>\n",
              "      <td>2.453656</td>\n",
              "      <td>Sleeping-dog</td>\n",
              "    </tr>\n",
              "    <tr>\n",
              "      <th>...</th>\n",
              "      <td>...</td>\n",
              "      <td>...</td>\n",
              "      <td>...</td>\n",
              "      <td>...</td>\n",
              "      <td>...</td>\n",
              "      <td>...</td>\n",
              "    </tr>\n",
              "    <tr>\n",
              "      <th>145</th>\n",
              "      <td>Z13253</td>\n",
              "      <td>3678.800000</td>\n",
              "      <td>2</td>\n",
              "      <td>5</td>\n",
              "      <td>2.463670</td>\n",
              "      <td>Big-Screen-lover</td>\n",
              "    </tr>\n",
              "    <tr>\n",
              "      <th>146</th>\n",
              "      <td>Z13534</td>\n",
              "      <td>3662.437527</td>\n",
              "      <td>3</td>\n",
              "      <td>6</td>\n",
              "      <td>0.900000</td>\n",
              "      <td>Early-bird</td>\n",
              "    </tr>\n",
              "    <tr>\n",
              "      <th>147</th>\n",
              "      <td>Z16428</td>\n",
              "      <td>3516.500000</td>\n",
              "      <td>2</td>\n",
              "      <td>5</td>\n",
              "      <td>2.371301</td>\n",
              "      <td>Big-Screen-lover</td>\n",
              "    </tr>\n",
              "    <tr>\n",
              "      <th>148</th>\n",
              "      <td>Z16735</td>\n",
              "      <td>3300.100000</td>\n",
              "      <td>2</td>\n",
              "      <td>5</td>\n",
              "      <td>1.704942</td>\n",
              "      <td>Big-Screen-lover</td>\n",
              "    </tr>\n",
              "    <tr>\n",
              "      <th>149</th>\n",
              "      <td>Z19835</td>\n",
              "      <td>3326.526183</td>\n",
              "      <td>2</td>\n",
              "      <td>6</td>\n",
              "      <td>1.200000</td>\n",
              "      <td>Early-bird</td>\n",
              "    </tr>\n",
              "  </tbody>\n",
              "</table>\n",
              "<p>150 rows × 6 columns</p>\n",
              "</div>\n",
              "    <div class=\"colab-df-buttons\">\n",
              "\n",
              "  <div class=\"colab-df-container\">\n",
              "    <button class=\"colab-df-convert\" onclick=\"convertToInteractive('df-efac36f8-ec0c-4866-8fd3-9055c67630d1')\"\n",
              "            title=\"Convert this dataframe to an interactive table.\"\n",
              "            style=\"display:none;\">\n",
              "\n",
              "  <svg xmlns=\"http://www.w3.org/2000/svg\" height=\"24px\" viewBox=\"0 -960 960 960\">\n",
              "    <path d=\"M120-120v-720h720v720H120Zm60-500h600v-160H180v160Zm220 220h160v-160H400v160Zm0 220h160v-160H400v160ZM180-400h160v-160H180v160Zm440 0h160v-160H620v160ZM180-180h160v-160H180v160Zm440 0h160v-160H620v160Z\"/>\n",
              "  </svg>\n",
              "    </button>\n",
              "\n",
              "  <style>\n",
              "    .colab-df-container {\n",
              "      display:flex;\n",
              "      gap: 12px;\n",
              "    }\n",
              "\n",
              "    .colab-df-convert {\n",
              "      background-color: #E8F0FE;\n",
              "      border: none;\n",
              "      border-radius: 50%;\n",
              "      cursor: pointer;\n",
              "      display: none;\n",
              "      fill: #1967D2;\n",
              "      height: 32px;\n",
              "      padding: 0 0 0 0;\n",
              "      width: 32px;\n",
              "    }\n",
              "\n",
              "    .colab-df-convert:hover {\n",
              "      background-color: #E2EBFA;\n",
              "      box-shadow: 0px 1px 2px rgba(60, 64, 67, 0.3), 0px 1px 3px 1px rgba(60, 64, 67, 0.15);\n",
              "      fill: #174EA6;\n",
              "    }\n",
              "\n",
              "    .colab-df-buttons div {\n",
              "      margin-bottom: 4px;\n",
              "    }\n",
              "\n",
              "    [theme=dark] .colab-df-convert {\n",
              "      background-color: #3B4455;\n",
              "      fill: #D2E3FC;\n",
              "    }\n",
              "\n",
              "    [theme=dark] .colab-df-convert:hover {\n",
              "      background-color: #434B5C;\n",
              "      box-shadow: 0px 1px 3px 1px rgba(0, 0, 0, 0.15);\n",
              "      filter: drop-shadow(0px 1px 2px rgba(0, 0, 0, 0.3));\n",
              "      fill: #FFFFFF;\n",
              "    }\n",
              "  </style>\n",
              "\n",
              "    <script>\n",
              "      const buttonEl =\n",
              "        document.querySelector('#df-efac36f8-ec0c-4866-8fd3-9055c67630d1 button.colab-df-convert');\n",
              "      buttonEl.style.display =\n",
              "        google.colab.kernel.accessAllowed ? 'block' : 'none';\n",
              "\n",
              "      async function convertToInteractive(key) {\n",
              "        const element = document.querySelector('#df-efac36f8-ec0c-4866-8fd3-9055c67630d1');\n",
              "        const dataTable =\n",
              "          await google.colab.kernel.invokeFunction('convertToInteractive',\n",
              "                                                    [key], {});\n",
              "        if (!dataTable) return;\n",
              "\n",
              "        const docLinkHtml = 'Like what you see? Visit the ' +\n",
              "          '<a target=\"_blank\" href=https://colab.research.google.com/notebooks/data_table.ipynb>data table notebook</a>'\n",
              "          + ' to learn more about interactive tables.';\n",
              "        element.innerHTML = '';\n",
              "        dataTable['output_type'] = 'display_data';\n",
              "        await google.colab.output.renderOutput(dataTable, element);\n",
              "        const docLink = document.createElement('div');\n",
              "        docLink.innerHTML = docLinkHtml;\n",
              "        element.appendChild(docLink);\n",
              "      }\n",
              "    </script>\n",
              "  </div>\n",
              "\n",
              "\n",
              "<div id=\"df-398e1aaf-04ab-4d76-80e1-77466c438752\">\n",
              "  <button class=\"colab-df-quickchart\" onclick=\"quickchart('df-398e1aaf-04ab-4d76-80e1-77466c438752')\"\n",
              "            title=\"Suggest charts\"\n",
              "            style=\"display:none;\">\n",
              "\n",
              "<svg xmlns=\"http://www.w3.org/2000/svg\" height=\"24px\"viewBox=\"0 0 24 24\"\n",
              "     width=\"24px\">\n",
              "    <g>\n",
              "        <path d=\"M19 3H5c-1.1 0-2 .9-2 2v14c0 1.1.9 2 2 2h14c1.1 0 2-.9 2-2V5c0-1.1-.9-2-2-2zM9 17H7v-7h2v7zm4 0h-2V7h2v10zm4 0h-2v-4h2v4z\"/>\n",
              "    </g>\n",
              "</svg>\n",
              "  </button>\n",
              "\n",
              "<style>\n",
              "  .colab-df-quickchart {\n",
              "      --bg-color: #E8F0FE;\n",
              "      --fill-color: #1967D2;\n",
              "      --hover-bg-color: #E2EBFA;\n",
              "      --hover-fill-color: #174EA6;\n",
              "      --disabled-fill-color: #AAA;\n",
              "      --disabled-bg-color: #DDD;\n",
              "  }\n",
              "\n",
              "  [theme=dark] .colab-df-quickchart {\n",
              "      --bg-color: #3B4455;\n",
              "      --fill-color: #D2E3FC;\n",
              "      --hover-bg-color: #434B5C;\n",
              "      --hover-fill-color: #FFFFFF;\n",
              "      --disabled-bg-color: #3B4455;\n",
              "      --disabled-fill-color: #666;\n",
              "  }\n",
              "\n",
              "  .colab-df-quickchart {\n",
              "    background-color: var(--bg-color);\n",
              "    border: none;\n",
              "    border-radius: 50%;\n",
              "    cursor: pointer;\n",
              "    display: none;\n",
              "    fill: var(--fill-color);\n",
              "    height: 32px;\n",
              "    padding: 0;\n",
              "    width: 32px;\n",
              "  }\n",
              "\n",
              "  .colab-df-quickchart:hover {\n",
              "    background-color: var(--hover-bg-color);\n",
              "    box-shadow: 0 1px 2px rgba(60, 64, 67, 0.3), 0 1px 3px 1px rgba(60, 64, 67, 0.15);\n",
              "    fill: var(--button-hover-fill-color);\n",
              "  }\n",
              "\n",
              "  .colab-df-quickchart-complete:disabled,\n",
              "  .colab-df-quickchart-complete:disabled:hover {\n",
              "    background-color: var(--disabled-bg-color);\n",
              "    fill: var(--disabled-fill-color);\n",
              "    box-shadow: none;\n",
              "  }\n",
              "\n",
              "  .colab-df-spinner {\n",
              "    border: 2px solid var(--fill-color);\n",
              "    border-color: transparent;\n",
              "    border-bottom-color: var(--fill-color);\n",
              "    animation:\n",
              "      spin 1s steps(1) infinite;\n",
              "  }\n",
              "\n",
              "  @keyframes spin {\n",
              "    0% {\n",
              "      border-color: transparent;\n",
              "      border-bottom-color: var(--fill-color);\n",
              "      border-left-color: var(--fill-color);\n",
              "    }\n",
              "    20% {\n",
              "      border-color: transparent;\n",
              "      border-left-color: var(--fill-color);\n",
              "      border-top-color: var(--fill-color);\n",
              "    }\n",
              "    30% {\n",
              "      border-color: transparent;\n",
              "      border-left-color: var(--fill-color);\n",
              "      border-top-color: var(--fill-color);\n",
              "      border-right-color: var(--fill-color);\n",
              "    }\n",
              "    40% {\n",
              "      border-color: transparent;\n",
              "      border-right-color: var(--fill-color);\n",
              "      border-top-color: var(--fill-color);\n",
              "    }\n",
              "    60% {\n",
              "      border-color: transparent;\n",
              "      border-right-color: var(--fill-color);\n",
              "    }\n",
              "    80% {\n",
              "      border-color: transparent;\n",
              "      border-right-color: var(--fill-color);\n",
              "      border-bottom-color: var(--fill-color);\n",
              "    }\n",
              "    90% {\n",
              "      border-color: transparent;\n",
              "      border-bottom-color: var(--fill-color);\n",
              "    }\n",
              "  }\n",
              "</style>\n",
              "\n",
              "  <script>\n",
              "    async function quickchart(key) {\n",
              "      const quickchartButtonEl =\n",
              "        document.querySelector('#' + key + ' button');\n",
              "      quickchartButtonEl.disabled = true;  // To prevent multiple clicks.\n",
              "      quickchartButtonEl.classList.add('colab-df-spinner');\n",
              "      try {\n",
              "        const charts = await google.colab.kernel.invokeFunction(\n",
              "            'suggestCharts', [key], {});\n",
              "      } catch (error) {\n",
              "        console.error('Error during call to suggestCharts:', error);\n",
              "      }\n",
              "      quickchartButtonEl.classList.remove('colab-df-spinner');\n",
              "      quickchartButtonEl.classList.add('colab-df-quickchart-complete');\n",
              "    }\n",
              "    (() => {\n",
              "      let quickchartButtonEl =\n",
              "        document.querySelector('#df-398e1aaf-04ab-4d76-80e1-77466c438752 button');\n",
              "      quickchartButtonEl.style.display =\n",
              "        google.colab.kernel.accessAllowed ? 'block' : 'none';\n",
              "    })();\n",
              "  </script>\n",
              "</div>\n",
              "\n",
              "  <div id=\"id_36395a7c-1740-412a-a4f3-cd46cf11fc29\">\n",
              "    <style>\n",
              "      .colab-df-generate {\n",
              "        background-color: #E8F0FE;\n",
              "        border: none;\n",
              "        border-radius: 50%;\n",
              "        cursor: pointer;\n",
              "        display: none;\n",
              "        fill: #1967D2;\n",
              "        height: 32px;\n",
              "        padding: 0 0 0 0;\n",
              "        width: 32px;\n",
              "      }\n",
              "\n",
              "      .colab-df-generate:hover {\n",
              "        background-color: #E2EBFA;\n",
              "        box-shadow: 0px 1px 2px rgba(60, 64, 67, 0.3), 0px 1px 3px 1px rgba(60, 64, 67, 0.15);\n",
              "        fill: #174EA6;\n",
              "      }\n",
              "\n",
              "      [theme=dark] .colab-df-generate {\n",
              "        background-color: #3B4455;\n",
              "        fill: #D2E3FC;\n",
              "      }\n",
              "\n",
              "      [theme=dark] .colab-df-generate:hover {\n",
              "        background-color: #434B5C;\n",
              "        box-shadow: 0px 1px 3px 1px rgba(0, 0, 0, 0.15);\n",
              "        filter: drop-shadow(0px 1px 2px rgba(0, 0, 0, 0.3));\n",
              "        fill: #FFFFFF;\n",
              "      }\n",
              "    </style>\n",
              "    <button class=\"colab-df-generate\" onclick=\"generateWithVariable('customerData')\"\n",
              "            title=\"Generate code using this dataframe.\"\n",
              "            style=\"display:none;\">\n",
              "\n",
              "  <svg xmlns=\"http://www.w3.org/2000/svg\" height=\"24px\"viewBox=\"0 0 24 24\"\n",
              "       width=\"24px\">\n",
              "    <path d=\"M7,19H8.4L18.45,9,17,7.55,7,17.6ZM5,21V16.75L18.45,3.32a2,2,0,0,1,2.83,0l1.4,1.43a1.91,1.91,0,0,1,.58,1.4,1.91,1.91,0,0,1-.58,1.4L9.25,21ZM18.45,9,17,7.55Zm-12,3A5.31,5.31,0,0,0,4.9,8.1,5.31,5.31,0,0,0,1,6.5,5.31,5.31,0,0,0,4.9,4.9,5.31,5.31,0,0,0,6.5,1,5.31,5.31,0,0,0,8.1,4.9,5.31,5.31,0,0,0,12,6.5,5.46,5.46,0,0,0,6.5,12Z\"/>\n",
              "  </svg>\n",
              "    </button>\n",
              "    <script>\n",
              "      (() => {\n",
              "      const buttonEl =\n",
              "        document.querySelector('#id_36395a7c-1740-412a-a4f3-cd46cf11fc29 button.colab-df-generate');\n",
              "      buttonEl.style.display =\n",
              "        google.colab.kernel.accessAllowed ? 'block' : 'none';\n",
              "\n",
              "      buttonEl.onclick = () => {\n",
              "        google.colab.notebook.generateWithVariable('customerData');\n",
              "      }\n",
              "      })();\n",
              "    </script>\n",
              "  </div>\n",
              "\n",
              "    </div>\n",
              "  </div>\n"
            ],
            "application/vnd.google.colaboratory.intrinsic+json": {
              "type": "dataframe",
              "variable_name": "customerData",
              "summary": "{\n  \"name\": \"customerData\",\n  \"rows\": 150,\n  \"fields\": [\n    {\n      \"column\": \"CUSTID\",\n      \"properties\": {\n        \"dtype\": \"string\",\n        \"num_unique_values\": 150,\n        \"samples\": [\n          \"O13586\",\n          \"E10778\",\n          \"U15861\"\n        ],\n        \"semantic_type\": \"\",\n        \"description\": \"\"\n      }\n    },\n    {\n      \"column\": \"AVGPRICE\",\n      \"properties\": {\n        \"dtype\": \"number\",\n        \"std\": 371.5718773715964,\n        \"min\": 2390.08373567855,\n        \"max\": 4296.87374265383,\n        \"num_unique_values\": 121,\n        \"samples\": [\n          3676.1356266881,\n          3227.8231303938,\n          3391.07421460378\n        ],\n        \"semantic_type\": \"\",\n        \"description\": \"\"\n      }\n    },\n    {\n      \"column\": \"EMI\",\n      \"properties\": {\n        \"dtype\": \"number\",\n        \"std\": 0,\n        \"min\": 1,\n        \"max\": 3,\n        \"num_unique_values\": 3,\n        \"samples\": [\n          3,\n          2,\n          1\n        ],\n        \"semantic_type\": \"\",\n        \"description\": \"\"\n      }\n    },\n    {\n      \"column\": \"DEVICECOUNT\",\n      \"properties\": {\n        \"dtype\": \"number\",\n        \"std\": 0,\n        \"min\": 3,\n        \"max\": 6,\n        \"num_unique_values\": 4,\n        \"samples\": [\n          4,\n          3,\n          6\n        ],\n        \"semantic_type\": \"\",\n        \"description\": \"\"\n      }\n    },\n    {\n      \"column\": \"PRODUCTAGE\",\n      \"properties\": {\n        \"dtype\": \"number\",\n        \"std\": 0.8074574370860476,\n        \"min\": 0.8,\n        \"max\": 3.4835727156698706,\n        \"num_unique_values\": 106,\n        \"samples\": [\n          2.08400471298024,\n          1.89162412926089,\n          2.45365640323609\n        ],\n        \"semantic_type\": \"\",\n        \"description\": \"\"\n      }\n    },\n    {\n      \"column\": \"CUSTTYPE\",\n      \"properties\": {\n        \"dtype\": \"category\",\n        \"num_unique_values\": 3,\n        \"samples\": [\n          \"Big-Screen-lover\",\n          \"Sleeping-dog\",\n          \"Early-bird\"\n        ],\n        \"semantic_type\": \"\",\n        \"description\": \"\"\n      }\n    }\n  ]\n}"
            }
          },
          "metadata": {},
          "execution_count": 41
        }
      ]
    }
  ]
}