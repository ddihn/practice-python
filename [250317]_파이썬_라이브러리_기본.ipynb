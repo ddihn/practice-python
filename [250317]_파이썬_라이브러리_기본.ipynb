{
  "nbformat": 4,
  "nbformat_minor": 0,
  "metadata": {
    "colab": {
      "provenance": [],
      "authorship_tag": "ABX9TyO9Ph8Ycblw1IVh61NN7svW"
    },
    "kernelspec": {
      "name": "python3",
      "display_name": "Python 3"
    },
    "language_info": {
      "name": "python"
    }
  },
  "cells": [
    {
      "cell_type": "code",
      "execution_count": null,
      "metadata": {
        "id": "SXS3MYvtZ_fy"
      },
      "outputs": [],
      "source": [
        "import pandas as pd # colab = python 언어 + 다양한 패키지가 기본 탑재"
      ]
    },
    {
      "cell_type": "code",
      "source": [
        "tvList = [\"UN40E001\", \"UN40EN002\", \"UN40EN003\", \"UN40EN004\", \"UN40EN005\"]\n",
        "preFix = \"LEDTV_\"\n",
        "listLen = len(tvList)\n",
        "\n",
        "for i in range(listLen):\n",
        "  tvList[i] = preFix + tvList[i]\n",
        "\n",
        "print(tvList)"
      ],
      "metadata": {
        "colab": {
          "base_uri": "https://localhost:8080/"
        },
        "id": "IqdpKxnZb6AF",
        "outputId": "0218a2eb-852d-4e59-b386-d06c77f361fa"
      },
      "execution_count": null,
      "outputs": [
        {
          "output_type": "stream",
          "name": "stdout",
          "text": [
            "['LEDTV_UN40E001', 'LEDTV_UN40EN002', 'LEDTV_UN40EN003', 'LEDTV_UN40EN004', 'LEDTV_UN40EN005']\n"
          ]
        }
      ]
    },
    {
      "cell_type": "code",
      "source": [
        "\"haiteam\" == \"haiteam\" # 자바는 .equals()를 사용해야 하지만 파이썬에서는 문자끼리 냅다 비교해도 같다고 해줌"
      ],
      "metadata": {
        "colab": {
          "base_uri": "https://localhost:8080/"
        },
        "id": "y2-iD2SNCYzJ",
        "outputId": "f38ccde4-7345-46cf-8816-4c3b8684bb0b"
      },
      "execution_count": null,
      "outputs": [
        {
          "output_type": "execute_result",
          "data": {
            "text/plain": [
              "True"
            ]
          },
          "metadata": {},
          "execution_count": 15
        }
      ]
    },
    {
      "cell_type": "code",
      "source": [
        "# for i in range(0,4):\n",
        "list(range(0,4)) # 리스트로 형 변환\n",
        "list(range(0,4,2)) # 시작(기본 0), 끝, 이동 범위(기본 1)"
      ],
      "metadata": {
        "colab": {
          "base_uri": "https://localhost:8080/"
        },
        "id": "zTsdSGe5Cxmf",
        "outputId": "2d678c6c-ce36-4369-f85b-a103d2d2d7be"
      },
      "execution_count": null,
      "outputs": [
        {
          "output_type": "execute_result",
          "data": {
            "text/plain": [
              "[0, 2]"
            ]
          },
          "metadata": {},
          "execution_count": 22
        }
      ]
    },
    {
      "cell_type": "code",
      "source": [
        "# while문\n",
        "i = 0\n",
        "listLen = 4\n",
        "while i < listLen:\n",
        "  tvList[i] = preFix + tvList[i]\n",
        "  i=i+1\n",
        "\n",
        "print(tvList)"
      ],
      "metadata": {
        "colab": {
          "base_uri": "https://localhost:8080/"
        },
        "id": "iQ4-FvbaGvD8",
        "outputId": "27b94b8d-e832-4b9a-b336-112854269760"
      },
      "execution_count": null,
      "outputs": [
        {
          "output_type": "stream",
          "name": "stdout",
          "text": [
            "['LEDTV_LEDTV_UN40E001', 'LEDTV_LEDTV_UN40EN002', 'LEDTV_LEDTV_UN40EN003', 'LEDTV_LEDTV_UN40EN004', 'LEDTV_UN40EN005']\n"
          ]
        }
      ]
    },
    {
      "cell_type": "code",
      "source": [
        "# 디버깅 방법 (코드상에 잘못된 부분을 찾아 수정하는 과정), 눈으로만 보지 말고 꼭 디버깅을 해봐야 한다!\n",
        "# 1. 초기값을 셀에 추가한다.\n",
        "# 2. 반복문을 그대로 복붙한다.\n",
        "# 3. 헤더를 주석 처리한다.\n",
        "# 4. 구문을 shift + tab 눌러서 땡긴다."
      ],
      "metadata": {
        "id": "0hZ7kL87G9ER"
      },
      "execution_count": null,
      "outputs": []
    },
    {
      "cell_type": "markdown",
      "source": [
        "###실습1"
      ],
      "metadata": {
        "id": "rKgZFojPIk2e"
      }
    },
    {
      "cell_type": "code",
      "source": [
        "tvList2 = [\"UN40EN001\", \"UN40EN002\", \"UN40EN003\", \"UN40EN004\"]\n",
        "tvListLen = len(tvList2);\n",
        "\n",
        "for i in range(tvListLen):\n",
        "  print(tvList2[i])"
      ],
      "metadata": {
        "colab": {
          "base_uri": "https://localhost:8080/"
        },
        "id": "X2sdDvnBIm1v",
        "outputId": "987ad672-dc82-42f7-c8a0-c100224f0fd8"
      },
      "execution_count": null,
      "outputs": [
        {
          "output_type": "stream",
          "name": "stdout",
          "text": [
            "UN40E001\n",
            "UN40EN002\n",
            "UN40EN003\n",
            "UN40EN004\n"
          ]
        }
      ]
    },
    {
      "cell_type": "markdown",
      "source": [
        "##조건문"
      ],
      "metadata": {
        "id": "rOtRJw1ChZMT"
      }
    },
    {
      "cell_type": "code",
      "source": [
        "# testModel = \"LED_UN40M001\"\n",
        "# preFix = \"LED_\"\n",
        "# # index 함수를 사용해서 구해보자!\n",
        "# # 조건 1 : 원하는 문자열에 prefix가 존재하면 pass\n",
        "# # 조건 2 : 이외에는 prefix를 앞에 붙인다.\n",
        "\n",
        "# if testModel.count(preFix) >= 1:\n",
        "#   pass\n",
        "# else :\n",
        "#   testModel = preFix + testModel\n",
        "\n",
        "# testModel"
      ],
      "metadata": {
        "colab": {
          "base_uri": "https://localhost:8080/",
          "height": 35
        },
        "id": "N5mK2z26hdjC",
        "outputId": "e9c2a6b0-3802-4dba-b11c-49fc6b56d733"
      },
      "execution_count": null,
      "outputs": [
        {
          "output_type": "execute_result",
          "data": {
            "text/plain": [
              "'LED_UN40M001'"
            ],
            "application/vnd.google.colaboratory.intrinsic+json": {
              "type": "string"
            }
          },
          "metadata": {},
          "execution_count": 63
        }
      ]
    },
    {
      "cell_type": "code",
      "source": [
        "tvList2 = [\"UN40EN001\", \"LEDTV_UN40EN002\", \"LEDTV_LEDTV_UN40EN003\", \"UN40EN004\"]\n",
        "preFix = \"LEDTV_\"\n",
        "listLen = len(tvList2)\n",
        "\n",
        "for i in range(listLen):\n",
        "  # preFix가 포함되어있지 않으면 앞에 preFix 붙이기\n",
        "  if tvList2[i].count(preFix) == 0:\n",
        "    tvList2[i] = preFix + tvList2[i]\n",
        "\n",
        "  # preFix가 한번이라도 포함되어 있으면 모두 없애고 다시 붙이기\n",
        "  else:\n",
        "      tvList2[i] = tvList2[i].replace(preFix,\"\")\n",
        "      tvList2[i] = preFix + tvList2[i]\n",
        "\n",
        "print(tvList2)"
      ],
      "metadata": {
        "colab": {
          "base_uri": "https://localhost:8080/"
        },
        "id": "BHRXLCtXgl8t",
        "outputId": "77aa2108-a787-4a87-b9b2-8fbc9bb2f4b7"
      },
      "execution_count": null,
      "outputs": [
        {
          "output_type": "stream",
          "name": "stdout",
          "text": [
            "['LEDTV_UN40EN001', 'LEDTV_UN40EN002', 'LEDTV_UN40EN003', 'LEDTV_UN40EN004']\n"
          ]
        }
      ]
    },
    {
      "cell_type": "markdown",
      "source": [
        "###교수님 답안"
      ],
      "metadata": {
        "id": "KMT6bzK_vNEC"
      }
    },
    {
      "cell_type": "code",
      "source": [
        "# 입력 데이터 선언\n",
        "tvList2 = ['UN40EN001', 'LEDTV_UN40EN002','LEDTV_LEDTV_UN40EN003','UN40EN004']\n",
        "\n",
        "# 접두어 선언\n",
        "preFix = \"LEDTV_\"\n",
        "\n",
        "for i in range(len(tvList2)):\n",
        "  if tvList2[i].count(preFix) == 0:\n",
        "    tvList2[i] = preFix + tvList2[i]\n",
        "  elif tvList2[i].count(preFix) >= 2 :\n",
        "    tvList2[i] = preFix + tvList2[i].replace(preFix,\"\")\n",
        "  else:\n",
        "    pass # 근데 이렇게 하면 중간에 접두어 하나만 들어가 있을 경우에는 ... 안 되는 거 아닌가?\n",
        "print(tvList2)\n",
        "# 조건1 : 입력데이터에 접두어가 없을 경우 -> 접두어 삽입\n",
        "# 조건2 : 입력데이터에 접두어가 한 개일 경우 -> pass\n",
        "# 조건3 : 입력데이터에 접두어가 두 개 이상인 경우 -> 접두어 삭제 후 접두어 삽입\n",
        "\n",
        "# i를 최대한 적게 사용하도록 코딩하는 것이 가독성에 좋음"
      ],
      "metadata": {
        "colab": {
          "base_uri": "https://localhost:8080/"
        },
        "id": "b60JtJ_3wmE2",
        "outputId": "8f068dbd-2c1e-4d76-de8c-7868d620f9b1"
      },
      "execution_count": null,
      "outputs": [
        {
          "output_type": "stream",
          "name": "stdout",
          "text": [
            "['LEDTV_UN40EN001', 'LEDTV_UN40EN002', 'LEDTV_UN40EN003', 'LEDTV_UN40EN004']\n"
          ]
        }
      ]
    },
    {
      "cell_type": "code",
      "source": [
        "nationList = ['A01','한국','A02','미국','A03','프랑스']\n",
        "listLen = len(nationList)\n",
        "\n",
        "for i in range(listLen):\n",
        "  element = nationList[i]\n",
        "  if element.count('A')==0:\n",
        "    pass\n",
        "  else:\n",
        "    print(element)"
      ],
      "metadata": {
        "colab": {
          "base_uri": "https://localhost:8080/"
        },
        "id": "ZVs8PkwN01XW",
        "outputId": "e005beaf-bca2-488c-c8d6-59516e6d22eb"
      },
      "execution_count": null,
      "outputs": [
        {
          "output_type": "stream",
          "name": "stdout",
          "text": [
            "A01\n",
            "A02\n",
            "A03\n"
          ]
        }
      ]
    },
    {
      "cell_type": "markdown",
      "source": [
        "###실습 2"
      ],
      "metadata": {
        "id": "BgK0clgd9dgM"
      }
    },
    {
      "cell_type": "code",
      "source": [
        "# 2025년도 01주차부터 202540 주차까지 4주 패턴으로 물량을 공급한다. 따라서 (예 : \"202504 주차 공급\") 이라고 출력되도록 코드를 개발\n",
        "\n",
        "startYearweek = 202501\n",
        "endYearweek = 202541\n",
        "weekList = list(range(startYearweek,endYearweek))\n",
        "weekLen = len(weekList)\n",
        "weekPattern = 4\n",
        "\n",
        "for i in range(weekLen):\n",
        "  # int -> str형으로 변환\n",
        "  weekToStr = str(weekList[i])\n",
        "\n",
        "  # 주차의 뒷 부분만 떼어내서 int형으로 변환\n",
        "  weekToInt = int(weekToStr[4:])\n",
        "\n",
        "  # 뒷 부분이 4의 배수라면 출력\n",
        "  if weekToInt % weekPattern == 0 :\n",
        "    print(f\"{weekToStr} 주차 공급\")\n",
        "\n",
        "\n",
        "\n",
        "\n"
      ],
      "metadata": {
        "colab": {
          "base_uri": "https://localhost:8080/"
        },
        "id": "t4hohi_T9fuX",
        "outputId": "f82306c6-9bd3-458c-f361-92d97b567999"
      },
      "execution_count": null,
      "outputs": [
        {
          "output_type": "stream",
          "name": "stdout",
          "text": [
            "202504 주차 공급\n",
            "202508 주차 공급\n",
            "202512 주차 공급\n",
            "202516 주차 공급\n",
            "202520 주차 공급\n",
            "202524 주차 공급\n",
            "202528 주차 공급\n",
            "202532 주차 공급\n",
            "202536 주차 공급\n",
            "202540 주차 공급\n"
          ]
        }
      ]
    }
  ]
}