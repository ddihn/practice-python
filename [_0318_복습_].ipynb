{
  "nbformat": 4,
  "nbformat_minor": 0,
  "metadata": {
    "colab": {
      "provenance": [],
      "authorship_tag": "ABX9TyPyifGe28Z9pMgKMlM4XwmL"
    },
    "kernelspec": {
      "name": "python3",
      "display_name": "Python 3"
    },
    "language_info": {
      "name": "python"
    }
  },
  "cells": [
    {
      "cell_type": "code",
      "execution_count": 2,
      "metadata": {
        "colab": {
          "base_uri": "https://localhost:8080/"
        },
        "id": "TYBHJEjcz2HP",
        "outputId": "dfeb978c-b769-4101-f4c8-a2ddbf196a07"
      },
      "outputs": [
        {
          "output_type": "stream",
          "name": "stdout",
          "text": [
            "UN40EN001\n",
            "UN40EN002\n",
            "UN40EN003\n",
            "UN40EN004\n"
          ]
        }
      ],
      "source": [
        "tvList2 = [ 'UN40EN001', 'UN40EN002','UN40EN003', 'UN40EN004' ]\n",
        "\n",
        "tvListLen = len(tvList2)\n",
        "\n",
        "for i in range(tvListLen):\n",
        "  print(tvList2[i])"
      ]
    },
    {
      "cell_type": "code",
      "source": [
        "tvList3 = [ 'UN40EN001', 'LEDTV_UN40EN002','LEDTV_LEDTV_UN40EN003', 'UN40EN004']\n",
        "tvList3Len = len(tvList3)\n",
        "prefix = \"LEDTV_\"\n",
        "for i in range(tvList3Len) :\n",
        "  if tvList3[i].count(prefix) == 0:\n",
        "    tvList3[i] = prefix + tvList3[i]\n",
        "  elif tvList3[i].count(prefix) == 1:\n",
        "    pass\n",
        "  else :\n",
        "    tvList3[i] = tvList3[i].replace(prefix,\"\")\n",
        "    tvList3[i] = prefix + tvList3[i]\n",
        "\n",
        "print(tvList3)"
      ],
      "metadata": {
        "colab": {
          "base_uri": "https://localhost:8080/"
        },
        "id": "ih-zCOBl0gh7",
        "outputId": "baa7043e-7840-418c-b6ed-5a666dbd3781"
      },
      "execution_count": 14,
      "outputs": [
        {
          "output_type": "stream",
          "name": "stdout",
          "text": [
            "['LEDTV_UN40EN001', 'LEDTV_UN40EN002', 'LEDTV_UN40EN003', 'LEDTV_UN40EN004']\n"
          ]
        }
      ]
    },
    {
      "cell_type": "code",
      "source": [
        "nationList = ['A01', '한국', 'A02', '미국', 'A03', '프랑스']\n",
        "prefix = \"A\"\n",
        "nationLen = len(nationList)\n",
        "for i in range(nationLen) :\n",
        "  if nationList[i].count(prefix) > 0 :\n",
        "    print(nationList[i])\n",
        "  else :\n",
        "    pass"
      ],
      "metadata": {
        "colab": {
          "base_uri": "https://localhost:8080/"
        },
        "id": "Ry6GUh3o2mHd",
        "outputId": "56ad73c8-6643-4011-c6ed-151f1385669c"
      },
      "execution_count": 16,
      "outputs": [
        {
          "output_type": "stream",
          "name": "stdout",
          "text": [
            "A01\n",
            "A02\n",
            "A03\n"
          ]
        }
      ]
    },
    {
      "cell_type": "code",
      "source": [
        "score = 100\n",
        "grade = \"\"\n",
        "\n",
        "if score >= 90 :\n",
        "  grade = \"A\"\n",
        "\n",
        "elif score >= 80 :\n",
        "  grade = \"B\"\n",
        "\n",
        "else :\n",
        "  grade = \"C\"\n",
        "\n",
        "print(grade)"
      ],
      "metadata": {
        "colab": {
          "base_uri": "https://localhost:8080/"
        },
        "id": "1PlaCysv3IEB",
        "outputId": "a4c33429-8150-4bad-a8aa-05a0a3845c6a"
      },
      "execution_count": 20,
      "outputs": [
        {
          "output_type": "stream",
          "name": "stdout",
          "text": [
            "A\n"
          ]
        }
      ]
    }
  ]
}