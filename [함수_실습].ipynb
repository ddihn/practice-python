{
  "nbformat": 4,
  "nbformat_minor": 0,
  "metadata": {
    "colab": {
      "provenance": [],
      "authorship_tag": "ABX9TyOmRjLH6P+fCcHR7iX1jCDQ"
    },
    "kernelspec": {
      "name": "python3",
      "display_name": "Python 3"
    },
    "language_info": {
      "name": "python"
    }
  },
  "cells": [
    {
      "cell_type": "code",
      "source": [
        "pip install isoweek"
      ],
      "metadata": {
        "colab": {
          "base_uri": "https://localhost:8080/"
        },
        "id": "1C66b81V8yLG",
        "outputId": "4758f636-18da-41a7-c5dd-debd4643c0c0"
      },
      "execution_count": null,
      "outputs": [
        {
          "output_type": "stream",
          "name": "stdout",
          "text": [
            "Requirement already satisfied: isoweek in /usr/local/lib/python3.11/dist-packages (1.3.3)\n"
          ]
        }
      ]
    },
    {
      "cell_type": "code",
      "source": [
        "from isoweek import Week"
      ],
      "metadata": {
        "id": "8xHhprf98yy7"
      },
      "execution_count": null,
      "outputs": []
    },
    {
      "cell_type": "code",
      "source": [
        "def fillZero ( fillAmount, target ) :\n",
        "  if( target < 10 & target > 0 ) :\n",
        "    result = (\"0\"*fillAmount) + str(target)\n",
        "    return result\n",
        "  else :\n",
        "    return str(target)\n",
        "\n",
        "fillZero(1,1)"
      ],
      "metadata": {
        "id": "7WhN-ALH5Neh"
      },
      "execution_count": null,
      "outputs": []
    },
    {
      "cell_type": "code",
      "source": [
        "Week.last_week_of_year(2015).week"
      ],
      "metadata": {
        "colab": {
          "base_uri": "https://localhost:8080/"
        },
        "id": "AsYeINAud8nU",
        "outputId": "7ea1859e-f4e7-420b-ef01-3e5532748443"
      },
      "execution_count": null,
      "outputs": [
        {
          "output_type": "execute_result",
          "data": {
            "text/plain": [
              "53"
            ]
          },
          "metadata": {},
          "execution_count": 129
        }
      ]
    },
    {
      "cell_type": "code",
      "source": [
        "print(Week.last_week_of_year(2017).week)\n",
        "print(Week.last_week_of_year(2016).week)\n",
        "print(Week.last_week_of_year(2015).week)"
      ],
      "metadata": {
        "colab": {
          "base_uri": "https://localhost:8080/"
        },
        "id": "MEBW4fl3sk2v",
        "outputId": "ff903935-3f7d-4f3f-9220-aa3cd0709142"
      },
      "execution_count": null,
      "outputs": [
        {
          "output_type": "stream",
          "name": "stdout",
          "text": [
            "52\n",
            "52\n",
            "53\n"
          ]
        }
      ]
    },
    {
      "cell_type": "code",
      "source": [
        "# 2017년 20주차에서 30주차 전으로 가기\n",
        "originYear = 2017\n",
        "originWeek = 20\n",
        "week = 30\n",
        "\n",
        "cWeek = 0\n",
        "# originWeek보다 week이 크므로\n",
        "cWeek = cWeek + originWeek\n",
        "print(cWeek)\n",
        "# 2016년의 총 주차 수 + weekOf2016이 30을 넘어가므로 더하지 않음 but\n",
        "changeYear = originYear - 1\n",
        "weekOf2016 = Week.last_week_of_year(2016).week\n",
        "calWeek = weekOf2016-(week-cWeek)\n",
        "\n",
        "print(calWeek)\n",
        "print(weekOf2016)"
      ],
      "metadata": {
        "colab": {
          "base_uri": "https://localhost:8080/"
        },
        "id": "2WCKCHfXsbXR",
        "outputId": "8f9601e5-391a-44ac-9c84-c6c681de344d"
      },
      "execution_count": null,
      "outputs": [
        {
          "output_type": "stream",
          "name": "stdout",
          "text": [
            "20\n",
            "42\n",
            "52\n"
          ]
        }
      ]
    },
    {
      "cell_type": "code",
      "source": [
        "# 2017년 20주차에서 100주차 전으로 가기 ->201525 나와야 함\n",
        "originYear = 2017\n",
        "originWeek = 20\n",
        "week = 100\n",
        "cWeek = 0\n",
        "# originWeek보다 week이 크므로\n",
        "cWeek = cWeek + originWeek\n",
        "\n",
        "# 2016년의 총 주차 수\n",
        "changeYear = originYear - 1\n",
        "weekOf2016 = Week.last_week_of_year(2016).week\n",
        "cWeek += weekOf2016\n",
        "\n",
        "# originWeek + 2016 주차 수의 크기가 100보다 작은지 비교 -> 72\n",
        "changeYear = originYear - 1\n",
        "weekOf2015 = Week.last_week_of_year(2015).week\n",
        "# cWeek에 2015년도 더하면 100을 넘어가므로 더하지 않음 but 구한 2015년도 주차 수에서 calWeek을 빼고 2015에 week 더해줌\n",
        "# 100 - 72 = 28 /\n",
        "calWeek = weekOf2015-(week-cWeek)\n",
        "print(calWeek)\n",
        "print(weekOf2015)"
      ],
      "metadata": {
        "colab": {
          "base_uri": "https://localhost:8080/"
        },
        "id": "dRWHrmyOshRa",
        "outputId": "f5303f4e-fcea-46ef-e289-3723ba925a12"
      },
      "execution_count": null,
      "outputs": [
        {
          "output_type": "stream",
          "name": "stdout",
          "text": [
            "25\n",
            "53\n"
          ]
        }
      ]
    },
    {
      "cell_type": "code",
      "source": [
        "def preWeek(originYearWeek, week):\n",
        "    \"\"\"\n",
        "    정의: 특정 년도의 주차에서 지정한 주수만큼 이전으로 이동하여 결과를 반환하는 함수.\n",
        "    매개변수:\n",
        "        originYearWeek (int, str): 기준이 되는 년도와 주차\n",
        "        week (int, str): 이전으로 이동할 주수.\n",
        "    반환값:\n",
        "        result (str): 이전으로 이동한 년도와 주차를 결합한 값\n",
        "    \"\"\"\n",
        "    # 입력값을 문자열과 정수형으로 변환\n",
        "    originYearWeek = str(originYearWeek)\n",
        "    week = int(week)\n",
        "\n",
        "    # 년도와 주차를 분리하고 정수형으로 변환\n",
        "    seperateidx = 4\n",
        "    originYear = int(originYearWeek[:seperateidx])\n",
        "    originWeek = int(originYearWeek[seperateidx:])\n",
        "\n",
        "    cumulateWeek = originWeek  # 주차 합계\n",
        "    maxofWeek = 0  # 특정 년도의 총 주차 수\n",
        "    changedYear = originYear  # 변경된 년도\n",
        "\n",
        "    # 현재 주차가 이동하려는 주수보다 클 경우, 간단히 주차만 계산\n",
        "    if originWeek > week:\n",
        "        resultWeek = originWeek - week\n",
        "        result = str(originYear) + str(resultWeek).zfill(2)\n",
        "\n",
        "    # 현재 주차와 이동하려는 주수가 같은 경우 전 년도의 마지막 주차로 이동\n",
        "    elif originWeek == week :\n",
        "      originYear = originYear - 1\n",
        "      maxofWeek = Week.last_week_of_year(originYear).week\n",
        "      result = str(originYear) + str(maxofWeek)\n",
        "\n",
        "    # 이동하려는 주수가 더 클 경우, 년도를 줄여가며 계산\n",
        "    else:\n",
        "        # 누적 주차가 이동하려는 주수보다 작을 때까지 반복\n",
        "        while cumulateWeek < week:\n",
        "            changedYear -= 1\n",
        "            maxofWeek = Week.last_week_of_year(changedYear).week\n",
        "\n",
        "            # 주차 누적과 해당 년도의 총 주차를 더한 값 비교\n",
        "            if cumulateWeek + maxofWeek < week:\n",
        "                cumulateWeek += maxofWeek\n",
        "            else:\n",
        "                break\n",
        "\n",
        "        # 남은 이동 주수 계산 및 결과 주차 결정\n",
        "        calWeek = maxofWeek - (week - cumulateWeek)\n",
        "        result = str(changedYear) + str(calWeek).zfill(2)\n",
        "\n",
        "    return result\n",
        "\n",
        "preWeek(201720,100)"
      ],
      "metadata": {
        "colab": {
          "base_uri": "https://localhost:8080/",
          "height": 35
        },
        "id": "naDSjkXC1wQD",
        "outputId": "2c8bf7d6-d398-413c-cac0-dd0fa9efac83"
      },
      "execution_count": null,
      "outputs": [
        {
          "output_type": "execute_result",
          "data": {
            "text/plain": [
              "'201525'"
            ],
            "application/vnd.google.colaboratory.intrinsic+json": {
              "type": "string"
            }
          },
          "metadata": {},
          "execution_count": 226
        }
      ]
    }
  ]
}